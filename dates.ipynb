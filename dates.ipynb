{
  "nbformat": 4,
  "nbformat_minor": 0,
  "metadata": {
    "colab": {
      "provenance": [],
      "authorship_tag": "ABX9TyMm1e61FsriHmQQla2/mXWB",
      "include_colab_link": true
    },
    "kernelspec": {
      "name": "python3",
      "display_name": "Python 3"
    },
    "language_info": {
      "name": "python"
    }
  },
  "cells": [
    {
      "cell_type": "markdown",
      "metadata": {
        "id": "view-in-github",
        "colab_type": "text"
      },
      "source": [
        "<a href=\"https://colab.research.google.com/github/annapressgrove/BTE-320/blob/main/dates.ipynb\" target=\"_parent\"><img src=\"https://colab.research.google.com/assets/colab-badge.svg\" alt=\"Open In Colab\"/></a>"
      ]
    },
    {
      "cell_type": "code",
      "execution_count": null,
      "metadata": {
        "id": "TJP4Wul3WD-0"
      },
      "outputs": [],
      "source": [
        "date = (input ('Enter date (MM/DD/YYYY)'))\n",
        "\n",
        "month = date [0:2:1]\n",
        "day = date [3:5:1]\n",
        "year = date [6:len(date)]\n",
        "\n",
        "print(f'Month:{month}')\n",
        "print(f'Day:{day}')\n",
        "print(f'Year:{year}')"
      ]
    }
  ]
}