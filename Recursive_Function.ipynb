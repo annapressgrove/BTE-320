{
  "nbformat": 4,
  "nbformat_minor": 0,
  "metadata": {
    "colab": {
      "provenance": [],
      "authorship_tag": "ABX9TyPu1ISPae2cqvpO2BGPjB2P",
      "include_colab_link": true
    },
    "kernelspec": {
      "name": "python3",
      "display_name": "Python 3"
    },
    "language_info": {
      "name": "python"
    }
  },
  "cells": [
    {
      "cell_type": "markdown",
      "metadata": {
        "id": "view-in-github",
        "colab_type": "text"
      },
      "source": [
        "<a href=\"https://colab.research.google.com/github/annapressgrove/BTE-320/blob/main/Recursive_Function.ipynb\" target=\"_parent\"><img src=\"https://colab.research.google.com/assets/colab-badge.svg\" alt=\"Open In Colab\"/></a>"
      ]
    },
    {
      "cell_type": "code",
      "execution_count": 5,
      "metadata": {
        "id": "M6z9Ol7ShhoU"
      },
      "outputs": [],
      "source": [
        "#f(\"Hello\") - \"mirror\"\n",
        "n=\"hello\"\n",
        "def recursive_hello(n):\n",
        "  if len(n) == 0:\n",
        "    return \" \"\n",
        "  else:\n",
        "    return n[-1] + recursive_hello(n[:-1]) + [n-1]\n",
        "    print(recursive_hello(n))"
      ]
    },
    {
      "cell_type": "code",
      "source": [
        "def mirrorString(s):\n",
        "  if len(s)==1:\n",
        "    return s\n",
        "  else:\n",
        "    return s[-1] +mirrorString(s[:-1])\n",
        "\n",
        "mirrorString(\"hello\")"
      ],
      "metadata": {
        "colab": {
          "base_uri": "https://localhost:8080/",
          "height": 37
        },
        "id": "OPgC8gUYhlfk",
        "outputId": "3485d871-a684-4a7b-d28f-da66d872b00b"
      },
      "execution_count": 6,
      "outputs": [
        {
          "output_type": "execute_result",
          "data": {
            "text/plain": [
              "'olleh'"
            ],
            "application/vnd.google.colaboratory.intrinsic+json": {
              "type": "string"
            }
          },
          "metadata": {},
          "execution_count": 6
        }
      ]
    }
  ]
}